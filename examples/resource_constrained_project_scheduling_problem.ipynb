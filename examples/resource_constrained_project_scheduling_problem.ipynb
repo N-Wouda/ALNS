{
 "cells": [
  {
   "cell_type": "code",
   "execution_count": 164,
   "metadata": {
    "collapsed": true
   },
   "outputs": [],
   "source": [
    "import copy\n",
    "import re\n",
    "from dataclasses import dataclass\n",
    "from functools import partial\n",
    "from typing import List\n",
    "\n",
    "import matplotlib.pyplot as plt\n",
    "import numpy as np\n",
    "import numpy.random as rnd\n",
    "\n",
    "from alns import ALNS, State\n",
    "from alns.criteria import *\n",
    "from alns.weight_schemes import *"
   ]
  },
  {
   "cell_type": "code",
   "execution_count": 165,
   "outputs": [],
   "source": [
    "%matplotlib inline"
   ],
   "metadata": {
    "collapsed": false,
    "pycharm": {
     "name": "#%%\n"
    }
   }
  },
  {
   "cell_type": "code",
   "execution_count": 166,
   "outputs": [],
   "source": [
    "SEED = 5432"
   ],
   "metadata": {
    "collapsed": false,
    "pycharm": {
     "name": "#%%\n"
    }
   }
  },
  {
   "cell_type": "markdown",
   "source": [
    "# The resource-constrained project scheduling problem\n",
    "\n",
    "The following explanation is largely based on [this paper](https://pms2020.sciencesconf.org/300164/document).\n",
    "\n",
    "The goal of the RCPSP is to schedule a set of project activities $V = \\{ 0, 1, 2, \\ldots, n \\}$, such that the makespan of the project is minimised.\n",
    "Each activity $i \\in V$ has a duration $d_i \\in \\mathbb{N}$.\n",
    "Precedence constraints impose that an activity $i \\in V$ can only start after all its predecessor activities have been completed.\n",
    "The precedence constraints are given by a set of edges $E \\subset V \\times V$, where $(i, j) \\in E$ means that $i$ must be completed before $j$ can commence.\n",
    "Resource constraints, on the other hand, impose that an activity can only be scheduled if sufficient resources are available.\n",
    "There are $K = \\{ 1, 2, \\ldots, m \\}$ renewable resources available, with $R_k$ indicating the availability of resource $k$.\n",
    "Each activity $i \\in V$ requires $r_{ik}$ units of resource $k$.\n",
    "A solution to the RCPSP is a schedule of activities $S = \\{ S_0, S_1, \\ldots, S_n \\}$, where $S_i$ is the starting time of activity $i$.\n",
    "The project starts at time $S_0 = 0$, and completes at $S_n$, where activities $0$ and $n$ are dummy activities that represent the start and completion of the project, respectively.\n",
    "\n",
    "In this notebook, we solve an instance of the RCPSP using ALNS.\n",
    "In particular, we solve instance `j9041_6` of the [PSPLib](http://www.om-db.wi.tum.de/psplib/library.html) benchmark suite.\n",
    "This instance consists of 90 jobs, and four resources.\n"
   ],
   "metadata": {
    "collapsed": false,
    "pycharm": {
     "name": "#%% md\n"
    }
   }
  },
  {
   "cell_type": "markdown",
   "source": [
    "## Data instance"
   ],
   "metadata": {
    "collapsed": false,
    "pycharm": {
     "name": "#%% md\n"
    }
   }
  },
  {
   "cell_type": "code",
   "execution_count": 167,
   "outputs": [],
   "source": [
    "@dataclass\n",
    "class ProblemData:\n",
    "    num_jobs: int\n",
    "    num_resources: int\n",
    "\n",
    "    duration: np.ndarray  # job durations\n",
    "    successors: List[List[int]]  # job successors\n",
    "    predecessors: List[List[int]]  # job predecessors\n",
    "    needs: np.ndarray  # job resource needs\n",
    "    resources: np.ndarray  # resource capacities\n",
    "\n",
    "    @property\n",
    "    def last_job(self) -> int:\n",
    "        return self.num_jobs - 1\n",
    "\n",
    "    @classmethod\n",
    "    def read_instance(cls, path: str) -> \"ProblemData\":\n",
    "        \"\"\"\n",
    "        Reads an instance of the RCPSP from a file.\n",
    "        Assumes the data is in the PSPLib format.\n",
    "\n",
    "        Loosely based on:\n",
    "        https://github.com/baobabsoluciones/hackathonbaobab2020.\n",
    "        \"\"\"\n",
    "        with open(path) as fh:\n",
    "            lines = fh.readlines()\n",
    "\n",
    "        prec_idx = lines.index(\"PRECEDENCE RELATIONS:\\n\")\n",
    "        req_idx = lines.index(\"REQUESTS/DURATIONS:\\n\")\n",
    "        avail_idx = lines.index(\"RESOURCEAVAILABILITIES:\\n\")\n",
    "\n",
    "        successors = []\n",
    "\n",
    "        for line in lines[prec_idx + 2: req_idx - 1]:\n",
    "            _, _, modes, num_succ, *jobs, _ = re.split(\"\\s+\", line)\n",
    "            successors.append(list(map(lambda x: int(x) - 1, jobs)))\n",
    "\n",
    "        predecessors = [[] for _ in range(len(successors))]\n",
    "\n",
    "        for job in range(len(successors)):\n",
    "            for succ in successors[job]:\n",
    "                predecessors[succ].append(job)\n",
    "\n",
    "        needs = []\n",
    "        durations = []\n",
    "\n",
    "        for line in lines[req_idx + 3: avail_idx - 1]:\n",
    "            _, _, _, duration, *consumption, _ = re.split(\"\\s+\", line)\n",
    "\n",
    "            needs.append(list(map(int, consumption)))\n",
    "            durations.append(int(duration))\n",
    "\n",
    "        _, *avail, _ = re.split(\"\\s+\", lines[avail_idx + 2])\n",
    "        resources = list(map(int, avail))\n",
    "\n",
    "        return ProblemData(len(durations),\n",
    "                           len(resources),\n",
    "                           np.array(durations),\n",
    "                           successors,\n",
    "                           predecessors,\n",
    "                           np.array(needs),\n",
    "                           np.array(resources))"
   ],
   "metadata": {
    "collapsed": false,
    "pycharm": {
     "name": "#%%\n"
    }
   }
  },
  {
   "cell_type": "code",
   "execution_count": 168,
   "outputs": [],
   "source": [
    "instance = ProblemData.read_instance('j9041_6.sm')\n",
    "\n",
    "UNSCHEDULED = -1  # sentinel value\n",
    "destroy_pct = 0.15"
   ],
   "metadata": {
    "collapsed": false,
    "pycharm": {
     "name": "#%%\n"
    }
   }
  },
  {
   "cell_type": "markdown",
   "source": [
    "## Solution state"
   ],
   "metadata": {
    "collapsed": false,
    "pycharm": {
     "name": "#%% md\n"
    }
   }
  },
  {
   "cell_type": "code",
   "execution_count": 169,
   "outputs": [],
   "source": [
    "@dataclass\n",
    "class RcpspState(State):\n",
    "    \"\"\"\n",
    "    Solution state for the resource-constrained project scheduling problem.\n",
    "    \"\"\"\n",
    "    schedule: np.ndarray\n",
    "\n",
    "    @property\n",
    "    def unscheduled(self) -> np.ndarray:\n",
    "        return np.argwhere(self.schedule == UNSCHEDULED).flatten()\n",
    "\n",
    "    @property\n",
    "    def scheduled(self) -> np.ndarray:\n",
    "        return np.argwhere(self.schedule != UNSCHEDULED).flatten()\n",
    "\n",
    "    def objective(self) -> int:\n",
    "        return self.schedule[instance.last_job]\n",
    "\n",
    "    def unschedule_job(self, job: int):\n",
    "        self.schedule[job] = UNSCHEDULED\n",
    "\n",
    "    def schedule_job(self, job: int, start: int):\n",
    "        self.schedule[job] = start\n",
    "\n",
    "    def resources_used(self):\n",
    "        if len(self.scheduled) == 0:\n",
    "            return np.zeros((1, instance.num_resources))\n",
    "\n",
    "        starts = self.schedule[self.scheduled]\n",
    "        ends = starts + instance.duration[self.scheduled]\n",
    "        used = np.zeros((np.max(ends), instance.num_resources))\n",
    "\n",
    "        for job, start, end in zip(self.scheduled, starts, ends):\n",
    "            for resource, need in enumerate(instance.needs[job]):\n",
    "                used[start:end, resource] += need\n",
    "\n",
    "        return used\n",
    "\n",
    "    def plot(self):\n",
    "        fig = plt.figure(figsize=(12, 6 + instance.num_resources))\n",
    "\n",
    "        hr = [1] * (instance.num_resources + 1)\n",
    "        hr[0] = 6\n",
    "\n",
    "        gs = plt.GridSpec(nrows=1 + instance.num_resources,\n",
    "                          ncols=1,\n",
    "                          height_ratios=hr)\n",
    "\n",
    "        gantt = fig.add_subplot(gs[0, 0])\n",
    "        gantt.barh(np.arange(instance.num_jobs),\n",
    "                   instance.duration,\n",
    "                   left=self.schedule)\n",
    "\n",
    "        gantt.set_xlim(0, self.objective())\n",
    "        gantt.set_ylim(0, instance.last_job)\n",
    "        gantt.invert_yaxis()\n",
    "\n",
    "        gantt.set_title(\"Gantt chart\")\n",
    "\n",
    "        used = self.resources_used()\n",
    "\n",
    "        for res in range(instance.num_resources):\n",
    "            res_ax = fig.add_subplot(gs[res + 1, 0], sharex=gantt)\n",
    "            res_ax.bar(np.arange(used.shape[0]), used[:, res])\n",
    "\n",
    "            res_ax.set_ylim(0, instance.resources[res])\n",
    "            res_ax.set_ylabel(f\"R{res + 1}\")\n",
    "\n",
    "            if res == instance.num_resources - 1:\n",
    "                res_ax.set_xlabel(\"Time\")\n",
    "\n",
    "        plt.tight_layout()"
   ],
   "metadata": {
    "collapsed": false,
    "pycharm": {
     "name": "#%%\n"
    }
   }
  },
  {
   "cell_type": "markdown",
   "source": [
    "## Destroy operators"
   ],
   "metadata": {
    "collapsed": false,
    "pycharm": {
     "name": "#%% md\n"
    }
   }
  },
  {
   "cell_type": "code",
   "execution_count": 170,
   "outputs": [],
   "source": [
    "def random_removal(state: RcpspState, rnd_state: rnd.RandomState):\n",
    "    state = copy.deepcopy(state)\n"
   ],
   "metadata": {
    "collapsed": false,
    "pycharm": {
     "name": "#%%\n"
    }
   }
  },
  {
   "cell_type": "code",
   "execution_count": 171,
   "outputs": [],
   "source": [
    "def most_mobile_removal(state: RcpspState, rnd_state: rnd.RandomState):\n",
    "    state = copy.deepcopy(state)\n"
   ],
   "metadata": {
    "collapsed": false,
    "pycharm": {
     "name": "#%%\n"
    }
   }
  },
  {
   "cell_type": "code",
   "execution_count": 172,
   "outputs": [],
   "source": [
    "def non_peak_removal(state: RcpspState, rnd_state: rnd.RandomState):\n",
    "    state = copy.deepcopy(state)\n"
   ],
   "metadata": {
    "collapsed": false,
    "pycharm": {
     "name": "#%%\n"
    }
   }
  },
  {
   "cell_type": "code",
   "execution_count": 173,
   "outputs": [],
   "source": [
    "def critical_path_removal(state: RcpspState, rnd_state: rnd.RandomState):\n",
    "    state = copy.deepcopy(state)\n"
   ],
   "metadata": {
    "collapsed": false,
    "pycharm": {
     "name": "#%%\n"
    }
   }
  },
  {
   "cell_type": "markdown",
   "source": [],
   "metadata": {
    "collapsed": false,
    "pycharm": {
     "name": "#%% md\n"
    }
   }
  },
  {
   "cell_type": "code",
   "execution_count": 174,
   "outputs": [],
   "source": [
    "def shortest_processing_time():\n",
    "    pass\n",
    "\n",
    "\n",
    "def most_total_sucessors():\n",
    "    pass\n",
    "\n",
    "\n",
    "def earliest_start_time():\n",
    "    pass\n",
    "\n",
    "\n",
    "def minimum_latest_finish_time():\n",
    "    pass\n",
    "\n",
    "\n",
    "def minimum_slack():\n",
    "    pass\n",
    "\n",
    "\n",
    "def greatest_rank_positional_weight():\n",
    "    pass\n",
    "\n",
    "\n",
    "def minimum_latest_start_time():\n",
    "    pass\n",
    "\n",
    "\n",
    "RULES = [\n",
    "    shortest_processing_time,\n",
    "    most_total_sucessors,\n",
    "    earliest_start_time,\n",
    "    minimum_latest_finish_time,\n",
    "    minimum_slack,\n",
    "    greatest_rank_positional_weight,\n",
    "    minimum_latest_start_time,\n",
    "]"
   ],
   "metadata": {
    "collapsed": false,
    "pycharm": {
     "name": "#%%\n"
    }
   }
  },
  {
   "cell_type": "code",
   "execution_count": 175,
   "outputs": [],
   "source": [
    "def random_insert(state: RcpspState,\n",
    "                  rnd_state: rnd.RandomState,\n",
    "                  rule):\n",
    "    pass"
   ],
   "metadata": {
    "collapsed": false,
    "pycharm": {
     "name": "#%%\n"
    }
   }
  },
  {
   "cell_type": "markdown",
   "source": [
    "## Initial solution"
   ],
   "metadata": {
    "collapsed": false,
    "pycharm": {
     "name": "#%% md\n"
    }
   }
  },
  {
   "cell_type": "code",
   "execution_count": 185,
   "outputs": [],
   "source": [
    "def make_initial_solution() -> RcpspState:\n",
    "    \"\"\"\n",
    "    Our initial solution is a simple, constructive thing. We schedule jobs\n",
    "    serially, one after another, such that the precedence constraints are\n",
    "    satisfied.\n",
    "    \"\"\"\n",
    "    schedule = np.array([0 for _ in range(instance.num_jobs)])\n",
    "    time = 0\n",
    "\n",
    "    # This is sufficient because jobs come sorted topologically, so we can\n",
    "    # just iterate over them in order.\n",
    "    for job in range(instance.num_jobs):\n",
    "        schedule[job] = time\n",
    "        time += instance.duration[job]\n",
    "\n",
    "    return RcpspState(schedule)"
   ],
   "metadata": {
    "collapsed": false,
    "pycharm": {
     "name": "#%%\n"
    }
   }
  },
  {
   "cell_type": "code",
   "execution_count": 186,
   "outputs": [
    {
     "name": "stdout",
     "output_type": "stream",
     "text": [
      "Initial solution has objective 477\n"
     ]
    }
   ],
   "source": [
    "init_sol = make_initial_solution()\n",
    "print(f\"Initial solution has objective {init_sol.objective()}.\")"
   ],
   "metadata": {
    "collapsed": false,
    "pycharm": {
     "name": "#%%\n"
    }
   }
  },
  {
   "cell_type": "code",
   "execution_count": 187,
   "outputs": [
    {
     "data": {
      "text/plain": "<Figure size 864x720 with 5 Axes>",
      "image/png": "[encoded data removed]"
     },
     "metadata": {
      "needs_background": "light"
     },
     "output_type": "display_data"
    }
   ],
   "source": [
    "init_sol.plot()"
   ],
   "metadata": {
    "collapsed": false,
    "pycharm": {
     "name": "#%%\n"
    }
   }
  },
  {
   "cell_type": "markdown",
   "source": [
    "## Heuristic solution"
   ],
   "metadata": {
    "collapsed": false,
    "pycharm": {
     "name": "#%% md\n"
    }
   }
  },
  {
   "cell_type": "code",
   "execution_count": null,
   "outputs": [],
   "source": [
    "rnd_state = rnd.RandomState(SEED)"
   ],
   "metadata": {
    "collapsed": false,
    "pycharm": {
     "name": "#%%\n"
    }
   }
  },
  {
   "cell_type": "code",
   "execution_count": 180,
   "outputs": [],
   "source": [
    "alns = ALNS(rnd_state)\n",
    "\n",
    "alns.add_destroy_operator(random_removal)\n",
    "alns.add_destroy_operator(most_mobile_removal)\n",
    "alns.add_destroy_operator(non_peak_removal)\n",
    "alns.add_destroy_operator(critical_path_removal)\n",
    "\n",
    "for rule in RULES:\n",
    "    alns.add_repair_operator(partial(random_insert, rule=rule),\n",
    "                             name=rule.__name__)"
   ],
   "metadata": {
    "collapsed": false,
    "pycharm": {
     "name": "#%%\n"
    }
   }
  },
  {
   "cell_type": "code",
   "execution_count": 123,
   "outputs": [],
   "source": [
    "iters = 5_000\n",
    "crit = RecordToRecordTravel(15, 1, (15 - 1) / iters)\n",
    "weights = SegmentedWeights([3, 2, 1, 0.5], 1, 1, 0.8)\n",
    "\n",
    "res = alns.iterate(init_sol, weights, crit, iterations=iters)\n",
    "\n",
    "sol = res.best_state\n",
    "obj = sol.objective()"
   ],
   "metadata": {
    "collapsed": false,
    "pycharm": {
     "name": "#%%\n"
    }
   }
  },
  {
   "cell_type": "code",
   "execution_count": 124,
   "outputs": [
    {
     "data": {
      "text/plain": "<Figure size 864x432 with 1 Axes>",
      "image/png": "[encoded data removed]"
     },
     "metadata": {
      "needs_background": "light"
     },
     "output_type": "display_data"
    }
   ],
   "source": [
    "_, ax = plt.subplots(figsize=(12, 6))\n",
    "res.plot_objectives(ax=ax)"
   ],
   "metadata": {
    "collapsed": false,
    "pycharm": {
     "name": "#%%\n"
    }
   }
  },
  {
   "cell_type": "code",
   "execution_count": 59,
   "outputs": [
    {
     "data": {
      "text/plain": "<Figure size 864x720 with 5 Axes>",
      "image/png": "[encoded data removed]"
     },
     "metadata": {
      "needs_background": "light"
     },
     "output_type": "display_data"
    }
   ],
   "source": [
    "sol.plot()"
   ],
   "metadata": {
    "collapsed": false,
    "pycharm": {
     "name": "#%%\n"
    }
   }
  },
  {
   "cell_type": "code",
   "execution_count": null,
   "outputs": [],
   "source": [],
   "metadata": {
    "collapsed": false,
    "pycharm": {
     "name": "#%%\n"
    }
   }
  }
 ],
 "metadata": {
  "kernelspec": {
   "display_name": "Python 3",
   "language": "python",
   "name": "python3"
  },
  "language_info": {
   "codemirror_mode": {
    "name": "ipython",
    "version": 2
   },
   "file_extension": ".py",
   "mimetype": "text/x-python",
   "name": "python",
   "nbconvert_exporter": "python",
   "pygments_lexer": "ipython2",
   "version": "2.7.6"
  }
 },
 "nbformat": 4,
 "nbformat_minor": 0
}