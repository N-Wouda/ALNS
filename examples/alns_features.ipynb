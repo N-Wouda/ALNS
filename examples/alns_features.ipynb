{
 "cells": [
  {
   "cell_type": "code",
   "execution_count": 1,
   "metadata": {},
   "outputs": [],
   "source": [
    "import copy\n",
    "from dataclasses import dataclass\n",
    "\n",
    "import matplotlib.pyplot as plt\n",
    "import numpy as np\n",
    "\n",
    "from alns import ALNS, State\n",
    "from alns.accept import *\n",
    "from alns.stop import *\n",
    "from alns.weights import *"
   ]
  },
  {
   "cell_type": "code",
   "execution_count": 2,
   "outputs": [],
   "source": [
    "%matplotlib inline"
   ],
   "metadata": {
    "collapsed": false,
    "pycharm": {
     "name": "#%%\n"
    }
   }
  },
  {
   "cell_type": "code",
   "execution_count": 3,
   "outputs": [],
   "source": [
    "SEED = 42"
   ],
   "metadata": {
    "collapsed": false,
    "pycharm": {
     "name": "#%%\n"
    }
   }
  },
  {
   "cell_type": "code",
   "execution_count": 4,
   "outputs": [],
   "source": [
    "np.random.seed(SEED)"
   ],
   "metadata": {
    "collapsed": false,
    "pycharm": {
     "name": "#%%\n"
    }
   }
  },
  {
   "cell_type": "markdown",
   "source": [
    "# Weight schemes and acceptance criteria\n",
    "\n",
    "The `alns` package offers a number of different weight schemes, and acceptance and stopping criteria. In this notebook, we show these in action solving a toy knapsack problem. Along the way we explain how they work, and show how you can use them in your ALNS heuristic.\n",
    "\n",
    "In our toy [0/1-knapsack problem](https://en.wikipedia.org/wiki/Knapsack_problem), there are $n = 100$ items $i$ with profit $p_i > 0$ and weight $w_i > 0$. The goal is to find a subset of the items that maximizes the profit, while keeping the total weight below a given limit $W$. The problem then reads follows:\n",
    "\\begin{align}\n",
    "      \\text{maximise } & \\sum_{i=1}^n p_i x_i \\\\\n",
    "    \\text{subject to } & \\sum_{i=1}^n w_i x_i \\le W \\text{ and } x_i \\in \\{0, 1\\}.\n",
    "\\end{align}\n",
    "\n",
    "First we quickly set up everything required for solving the problem with ALNS. In particular, we define a solution state, and a few destroy and repair operators. Our goal is not to solve this problem very well, so we set up only the bare minimum needed to get the ALNS algorithm going."
   ],
   "metadata": {
    "collapsed": false,
    "pycharm": {
     "name": "#%% md\n"
    }
   }
  },
  {
   "cell_type": "code",
   "execution_count": 5,
   "outputs": [],
   "source": [
    "n = 100\n",
    "p = np.random.randint(1, 100, size=n)\n",
    "w = np.random.randint(10, 50, size=n)\n",
    "W = 1_000\n",
    "\n",
    "# Percentage of items to remove in each iteration\n",
    "destroy_rate = .25"
   ],
   "metadata": {
    "collapsed": false,
    "pycharm": {
     "name": "#%%\n"
    }
   }
  },
  {
   "cell_type": "markdown",
   "source": [],
   "metadata": {
    "collapsed": false,
    "pycharm": {
     "name": "#%% md\n"
    }
   }
  },
  {
   "cell_type": "code",
   "execution_count": 6,
   "outputs": [],
   "source": [
    "@dataclass\n",
    "class KnapsackState(State):\n",
    "    \"\"\"\n",
    "    Solution class for the 0/1 knapsack problem. It stores the current\n",
    "    solution as a vector of binary variables, one for each item.\n",
    "    \"\"\"\n",
    "    x: np.ndarray\n",
    "\n",
    "    def objective(self) -> int:\n",
    "        # Negative p since ALNS expects a minimisation problem.\n",
    "        return -p @ self.x\n",
    "\n",
    "    def weight(self) -> int:\n",
    "        return w @ self.x"
   ],
   "metadata": {
    "collapsed": false,
    "pycharm": {
     "name": "#%%\n"
    }
   }
  },
  {
   "cell_type": "markdown",
   "source": [
    "### Destroy operators\n",
    "\n",
    "We implement two operators:\n",
    "- A simple random destroy operator, which removes items from the knapsack at random.\n",
    "- A destroy operator that removes items based on their relative merits, that is, for an item $i$ currently in the knapsack, it removes those whose $p_i / w_i$ values are smallest."
   ],
   "metadata": {
    "collapsed": false,
    "pycharm": {
     "name": "#%% md\n"
    }
   }
  },
  {
   "cell_type": "code",
   "execution_count": 7,
   "outputs": [],
   "source": [
    "def to_destroy(state: KnapsackState) -> int:\n",
    "    return int(destroy_rate * state.x.sum())"
   ],
   "metadata": {
    "collapsed": false,
    "pycharm": {
     "name": "#%%\n"
    }
   }
  },
  {
   "cell_type": "code",
   "execution_count": 8,
   "outputs": [],
   "source": [
    "def random_remove(state: KnapsackState, rnd_state):\n",
    "    state = copy.deepcopy(state)\n",
    "\n",
    "    to_remove = rnd_state.choice(np.arange(n),\n",
    "                                 size=to_destroy(state),\n",
    "                                 p=state.x / state.x.sum())\n",
    "\n",
    "    state.x[to_remove] = 0\n",
    "\n",
    "    return state"
   ],
   "metadata": {
    "collapsed": false,
    "pycharm": {
     "name": "#%%\n"
    }
   }
  },
  {
   "cell_type": "code",
   "execution_count": 9,
   "outputs": [],
   "source": [
    "def worst_remove(state: KnapsackState, rnd_state):\n",
    "    state = copy.deepcopy(state)\n",
    "\n",
    "    merit = state.x * p / w\n",
    "\n",
    "    by_merit = np.argsort(-merit)\n",
    "    by_merit = by_merit[by_merit > 0]\n",
    "\n",
    "    for item in by_merit[:to_destroy(state)]:\n",
    "        state.x[item] = 0\n",
    "\n",
    "    return state"
   ],
   "metadata": {
    "collapsed": false,
    "pycharm": {
     "name": "#%%\n"
    }
   }
  },
  {
   "cell_type": "markdown",
   "source": [
    "### Repair operators\n",
    "\n",
    "We implement only the random repair operator. The focus of this notebook is not on solving the knapsack problem very well, but rather to showcase the different weight schemes and acceptance criteria."
   ],
   "metadata": {
    "collapsed": false,
    "pycharm": {
     "name": "#%% md\n"
    }
   }
  },
  {
   "cell_type": "code",
   "execution_count": 10,
   "outputs": [],
   "source": [
    "def random_repair(state: KnapsackState, rnd_state):\n",
    "    while True:\n",
    "        unselected = np.argwhere(state.x == 0)\n",
    "        rnd_state.shuffle(unselected)\n",
    "\n",
    "        for item in unselected:\n",
    "            if state.weight() + w[item] <= W:\n",
    "                state.x[item] = 1\n",
    "                break\n",
    "        else:\n",
    "            return state"
   ],
   "metadata": {
    "collapsed": false,
    "pycharm": {
     "name": "#%%\n"
    }
   }
  },
  {
   "cell_type": "markdown",
   "source": [
    "### ALNS"
   ],
   "metadata": {
    "collapsed": false,
    "pycharm": {
     "name": "#%% md\n"
    }
   }
  },
  {
   "cell_type": "code",
   "execution_count": 11,
   "outputs": [],
   "source": [
    "def make_alns() -> ALNS:\n",
    "    rnd_state = np.random.RandomState(SEED)\n",
    "    alns = ALNS(rnd_state)\n",
    "\n",
    "    alns.add_destroy_operator(random_remove)\n",
    "    alns.add_destroy_operator(worst_remove)\n",
    "\n",
    "    alns.add_repair_operator(random_repair)\n",
    "\n",
    "    return alns"
   ],
   "metadata": {
    "collapsed": false,
    "pycharm": {
     "name": "#%%\n"
    }
   }
  },
  {
   "cell_type": "code",
   "execution_count": 12,
   "outputs": [],
   "source": [
    "# Terrible - but simple - first solution, where only the first item is\n",
    "# selected.\n",
    "init_sol = KnapsackState(np.zeros(n))\n",
    "init_sol.x[0] = 1"
   ],
   "metadata": {
    "collapsed": false,
    "pycharm": {
     "name": "#%%\n"
    }
   }
  },
  {
   "cell_type": "markdown",
   "source": [
    "# Weight schemes\n",
    "\n",
    "We now have everything set-up for solving the problem. We will now look at the weight schemes the `alns` package offers. Here, we use the `HillClimbing` acceptance criterion, which only accepts better solutions."
   ],
   "metadata": {
    "collapsed": false,
    "pycharm": {
     "name": "#%% md\n"
    }
   }
  },
  {
   "cell_type": "code",
   "execution_count": 13,
   "outputs": [],
   "source": [
    "crit = HillClimbing()"
   ],
   "metadata": {
    "collapsed": false,
    "pycharm": {
     "name": "#%%\n"
    }
   }
  },
  {
   "cell_type": "markdown",
   "source": [
    "## Simple weights\n",
    "\n",
    "The `SimpleWeights` weight scheme updates operator weights according as a convex combination of the current weight, and the new score.\n",
    "\n",
    "When the algorithm starts, all operators $i$ are assigned weight $\\omega_i = 1$. In each iteration, a destroy and repair operator $d$ and $r$ are selected by the ALNS algorithm, based on the current weights $\\omega_i$. These operators are applied to the current solution, resulting in a new candidate solution. This candidate is evaluated by the ALNS algorithm, which leads to one of four outcomes:\n",
    "\n",
    "1. The candidate solution is a new global best.\n",
    "2. The candidate solution is better than the current solution, but not a global best.\n",
    "3. The candidate solution is accepted.\n",
    "4. The candidate solution is rejected.\n",
    "\n",
    "Each of these four outcomes is assigned a score $s_j$ ($j = 1,...,4$). After observing outcome $j$, the weights of the destroy and repair operator $d$ and $r$ that were applied are updated as follows:\n",
    "$$ \\omega_d = \\theta \\omega_d + (1 - \\theta) s_j, $$\n",
    "$$ \\omega_r = \\theta \\omega_r + (1 - \\theta) s_j, $$\n",
    "where $0 \\le \\theta \\le 1$ (known as the _operator decay rate_) is a parameter."
   ],
   "metadata": {
    "collapsed": false,
    "pycharm": {
     "name": "#%% md\n"
    }
   }
  },
  {
   "cell_type": "code",
   "execution_count": 14,
   "outputs": [
    {
     "name": "stdout",
     "output_type": "stream",
     "text": [
      "Found solution with objective 2876.0.\n"
     ]
    }
   ],
   "source": [
    "weights = SimpleWeights(scores=[5, 2, 1, 0.5],\n",
    "                        num_destroy=2,\n",
    "                        num_repair=1,\n",
    "                        op_decay=0.8)\n",
    "\n",
    "alns = make_alns()\n",
    "res = alns.iterate(init_sol, weights, crit, MaxIterations(10_000))\n",
    "\n",
    "print(f\"Found solution with objective {-res.best_state.objective()}.\")"
   ],
   "metadata": {
    "collapsed": false,
    "pycharm": {
     "name": "#%%\n"
    }
   }
  },
  {
   "cell_type": "code",
   "execution_count": 15,
   "outputs": [
    {
     "data": {
      "text/plain": "<Figure size 864x432 with 1 Axes>",
      "image/png": "[encoded data removed]"
     },
     "metadata": {
      "needs_background": "light"
     },
     "output_type": "display_data"
    }
   ],
   "source": [
    "_, ax = plt.subplots(figsize=(12, 6))\n",
    "res.plot_objectives(ax=ax, lw=2)"
   ],
   "metadata": {
    "collapsed": false,
    "pycharm": {
     "name": "#%%\n"
    }
   }
  },
  {
   "cell_type": "markdown",
   "source": [
    "## Segmented weights\n",
    "\n",
    "Simple weights continuously updates the weights of the destroy and repair operators. As a consequence, it might overlook that different operators are more effective in the neighbourhood of different solutions.\n",
    "\n",
    "The `SegmentedWeights` weight scheme attempts to fix this, by fixing the operator weights $\\omega_i$ for a number of iterations (the _segment length_). Initially, all weights are set to one, as in `SimpleWeights`. A separate score is tracked for each operator $d$ and $r$, to which the observed scores $s_j$ are added in each iteration where $d$ and $r$ are applied. After the segment concludes, these summed scores are added to the weights $\\omega_i$ as a convex combination using a parameter $\\theta$ (the _segment decay rate_) as in `SimpleWeights`. The separate score list is then reset to zero, and a new segment begins."
   ],
   "metadata": {
    "collapsed": false,
    "pycharm": {
     "name": "#%% md\n"
    }
   }
  },
  {
   "cell_type": "code",
   "execution_count": 16,
   "outputs": [
    {
     "name": "stdout",
     "output_type": "stream",
     "text": [
      "Found solution with objective 2887.0.\n"
     ]
    }
   ],
   "source": [
    "weights = SegmentedWeights(scores=[5, 2, 1, 0.5],\n",
    "                           num_destroy=2,\n",
    "                           num_repair=1,\n",
    "                           seg_decay=0.8,\n",
    "                           seg_length=500)\n",
    "\n",
    "alns = make_alns()\n",
    "res = alns.iterate(init_sol, weights, crit, MaxIterations(10_000))\n",
    "\n",
    "print(f\"Found solution with objective {-res.best_state.objective()}.\")"
   ],
   "metadata": {
    "collapsed": false,
    "pycharm": {
     "name": "#%%\n"
    }
   }
  },
  {
   "cell_type": "code",
   "execution_count": 17,
   "outputs": [
    {
     "data": {
      "text/plain": "<Figure size 864x432 with 1 Axes>",
      "image/png": "[encoded data removed]"
     },
     "metadata": {
      "needs_background": "light"
     },
     "output_type": "display_data"
    }
   ],
   "source": [
    "_, ax = plt.subplots(figsize=(12, 6))\n",
    "res.plot_objectives(ax=ax, lw=2)"
   ],
   "metadata": {
    "collapsed": false,
    "pycharm": {
     "name": "#%%\n"
    }
   }
  },
  {
   "cell_type": "markdown",
   "source": [
    "# Acceptance criteria\n",
    "\n",
    "We have just looked at the different weight schemes, using a fixed acceptance criterion. Now we flip this around: we fix a weight scheme, and look at the various different acceptance criteria the `alns` package offers."
   ],
   "metadata": {
    "collapsed": false,
    "pycharm": {
     "name": "#%% md\n"
    }
   }
  },
  {
   "cell_type": "code",
   "execution_count": 18,
   "outputs": [],
   "source": [
    "weights = SegmentedWeights(scores=[5, 2, 1, 0.5],\n",
    "                           num_destroy=2,\n",
    "                           num_repair=1,\n",
    "                           seg_decay=0.8,\n",
    "                           seg_length=500)"
   ],
   "metadata": {
    "collapsed": false,
    "pycharm": {
     "name": "#%%\n"
    }
   }
  },
  {
   "cell_type": "markdown",
   "source": [
    "# Hill climbing\n",
    "\n",
    "This acceptance criterion only accepts better solutions. It was used in the examples explaining the weighting schemes, so we will not repeat it here. You might also be interested in the other example notebooks for the cutting stock and travelling salesman problems, which also rely on this acceptance criterion."
   ],
   "metadata": {
    "collapsed": false,
    "pycharm": {
     "name": "#%% md\n"
    }
   }
  },
  {
   "cell_type": "markdown",
   "source": [
    "# Record-to-record travel\n",
    "\n",
    "This criterion accepts solutions when the improvement meets some updating threshold.\n",
    "\n",
    "In particular, consider the current best solution $s^*$ with objective $f(s^*)$. A new candidate solution $s^c$ is accepted if the improvement $f(s^c) - f(s^*)$ is smaller than some updating threshold $t$. This threshold is initialised at some starting value, and then updated using a step value $u$. There are two ways in which this update can take place:\n",
    "- _linear_: the threshold is updated linearly, as $t = t - u$.\n",
    "- _exponential_: the threshold is updated exponentially, as $t = t \\times u$.\n",
    "Finally, the threshold $t$ cannot become smaller than a minimum value, the end threshold."
   ],
   "metadata": {
    "collapsed": false,
    "pycharm": {
     "name": "#%% md\n"
    }
   }
  },
  {
   "cell_type": "code",
   "execution_count": 19,
   "outputs": [
    {
     "name": "stdout",
     "output_type": "stream",
     "text": [
      "Found solution with objective 2772.0.\n"
     ]
    }
   ],
   "source": [
    "crit = RecordToRecordTravel(start_threshold=255,\n",
    "                            end_threshold=5,\n",
    "                            step=250 / 10_000,\n",
    "                            method=\"linear\")\n",
    "\n",
    "alns = make_alns()\n",
    "res = alns.iterate(init_sol, weights, crit, MaxIterations(10_000))\n",
    "\n",
    "print(f\"Found solution with objective {-res.best_state.objective()}.\")"
   ],
   "metadata": {
    "collapsed": false,
    "pycharm": {
     "name": "#%%\n"
    }
   }
  },
  {
   "cell_type": "code",
   "execution_count": 20,
   "outputs": [
    {
     "data": {
      "text/plain": "<Figure size 864x432 with 1 Axes>",
      "image/png": "[encoded data removed]"
     },
     "metadata": {
      "needs_background": "light"
     },
     "output_type": "display_data"
    }
   ],
   "source": [
    "_, ax = plt.subplots(figsize=(12, 6))\n",
    "res.plot_objectives(ax=ax, lw=2)"
   ],
   "metadata": {
    "collapsed": false,
    "pycharm": {
     "name": "#%%\n"
    }
   }
  },
  {
   "cell_type": "markdown",
   "source": [
    "# Simulated annealing\n",
    "\n",
    "This criterion accepts solutions when the scaled probability is bigger than some random number, using an updating temperature that drives the probability down. It is very similar to the `RecordToRecordTravel` criterion, but uses a different acceptance scheme.\n",
    "\n",
    "In particular, a temperature is used, rather than a threshold, and the candidate $s^c$ is compared against the current solution $s$, rather than the current best solution $s^*$. The acceptance probability is calculated as\n",
    "$$ \\exp \\left\\{ \\frac{f(s) - f(s^c)}{t} \\right\\}, $$\n",
    "where $t$ is the current temperature."
   ],
   "metadata": {
    "collapsed": false,
    "pycharm": {
     "name": "#%% md\n"
    }
   }
  },
  {
   "cell_type": "code",
   "execution_count": 21,
   "outputs": [
    {
     "name": "stdout",
     "output_type": "stream",
     "text": [
      "Found solution with objective 2874.0.\n"
     ]
    }
   ],
   "source": [
    "crit = SimulatedAnnealing(start_temperature=1_000,\n",
    "                          end_temperature=1,\n",
    "                          step=1 - 1e-3,\n",
    "                          method=\"exponential\")\n",
    "\n",
    "alns = make_alns()\n",
    "res = alns.iterate(init_sol, weights, crit, MaxIterations(10_000))\n",
    "\n",
    "print(f\"Found solution with objective {-res.best_state.objective()}.\")"
   ],
   "metadata": {
    "collapsed": false,
    "pycharm": {
     "name": "#%%\n"
    }
   }
  },
  {
   "cell_type": "code",
   "execution_count": 22,
   "outputs": [
    {
     "data": {
      "text/plain": "<Figure size 864x432 with 1 Axes>",
      "image/png": "[encoded data removed]"
     },
     "metadata": {
      "needs_background": "light"
     },
     "output_type": "display_data"
    }
   ],
   "source": [
    "_, ax = plt.subplots(figsize=(12, 6))\n",
    "res.plot_objectives(ax=ax, lw=2)"
   ],
   "metadata": {
    "collapsed": false,
    "pycharm": {
     "name": "#%%\n"
    }
   }
  },
  {
   "cell_type": "markdown",
   "source": [
    "Rather than a fixed number of iterations, we can also fix the runtime, and allow as many iterations as fit in that timeframe."
   ],
   "metadata": {
    "collapsed": false,
    "pycharm": {
     "name": "#%% md\n"
    }
   }
  },
  {
   "cell_type": "code",
   "execution_count": 23,
   "outputs": [
    {
     "name": "stdout",
     "output_type": "stream",
     "text": [
      "Found solution with objective 2954.0.\n"
     ]
    }
   ],
   "source": [
    "crit = SimulatedAnnealing(start_temperature=1_000,\n",
    "                          end_temperature=1,\n",
    "                          step=1 - 1e-3,\n",
    "                          method=\"exponential\")\n",
    "\n",
    "alns = make_alns()\n",
    "res = alns.iterate(init_sol, weights, crit, MaxRuntime(60))  # one minute\n",
    "\n",
    "print(f\"Found solution with objective {-res.best_state.objective()}.\")"
   ],
   "metadata": {
    "collapsed": false,
    "pycharm": {
     "name": "#%%\n"
    }
   }
  },
  {
   "cell_type": "code",
   "execution_count": 24,
   "outputs": [
    {
     "data": {
      "text/plain": "<Figure size 864x432 with 1 Axes>",
      "image/png": "[encoded data removed]"
     },
     "metadata": {
      "needs_background": "light"
     },
     "output_type": "display_data"
    }
   ],
   "source": [
    "_, ax = plt.subplots(figsize=(12, 6))\n",
    "res.plot_objectives(ax=ax, lw=2)"
   ],
   "metadata": {
    "collapsed": false,
    "pycharm": {
     "name": "#%%\n"
    }
   }
  },
  {
   "cell_type": "markdown",
   "source": [
    "# Conclusions\n",
    "\n",
    "This notebook has shown the various weight schemes, acceptance and stopping criteria that can be used with the `alns` package.\n",
    "The `alns` package is designed to be flexible, and it is easy to add new weight schemes and criteria yourself, by subclassing `alns.weights.WeightScheme`, `alns.accept.AcceptanceCriterion`, or `alns.stop.StoppingCriterion`.\n"
   ],
   "metadata": {
    "collapsed": false,
    "pycharm": {
     "name": "#%% md\n"
    }
   }
  },
  {
   "cell_type": "code",
   "execution_count": 24,
   "outputs": [],
   "source": [],
   "metadata": {
    "collapsed": false,
    "pycharm": {
     "name": "#%%\n"
    }
   }
  }
 ],
 "metadata": {
  "kernelspec": {
   "display_name": "Python 3",
   "language": "python",
   "name": "python3"
  },
  "language_info": {
   "codemirror_mode": {
    "name": "ipython",
    "version": 3
   },
   "file_extension": ".py",
   "mimetype": "text/x-python",
   "name": "python",
   "nbconvert_exporter": "python",
   "pygments_lexer": "ipython3",
   "version": "3.7.1"
  }
 },
 "nbformat": 4,
 "nbformat_minor": 2
}