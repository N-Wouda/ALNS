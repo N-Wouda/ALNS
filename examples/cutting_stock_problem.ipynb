{
 "cells": [
  {
   "cell_type": "code",
   "execution_count": 1,
   "metadata": {},
   "outputs": [],
   "source": [
    "import matplotlib.pyplot as plt\n",
    "import numpy as np\n",
    "\n",
    "from alns import ALNS, State"
   ]
  },
  {
   "cell_type": "code",
   "execution_count": 2,
   "metadata": {},
   "outputs": [],
   "source": [
    "%matplotlib inline"
   ]
  },
  {
   "cell_type": "code",
   "execution_count": 3,
   "metadata": {},
   "outputs": [],
   "source": [
    "SEED = 5432"
   ]
  },
  {
   "cell_type": "markdown",
   "metadata": {},
   "source": [
    "# The cutting-stock problem\n",
    "\n",
    "The [cutting-stock problem (CSP)](https://en.wikipedia.org/wiki/Cutting_stock_problem) is well-known problem in operations research. Many different formulations exist, e.g. for the one-, two-, and even three-dimensional case. Here we solve an instance of the one-dimensional problem, obtained from the data [here](http://www.math.tu-dresden.de/~capad/cpd-ti.html#1D). It is known that the optimal solution for this problem achieves a wastage of only 74."
   ]
  },
  {
   "cell_type": "code",
   "execution_count": 4,
   "metadata": {},
   "outputs": [],
   "source": [
    "OPTIMAL = 74"
   ]
  },
  {
   "cell_type": "code",
   "execution_count": 5,
   "metadata": {},
   "outputs": [
    {
     "name": "stdout",
     "output_type": "stream",
     "text": [
      "Total number of beams available: 165\n",
      "Each available beam is of length: 1000\n",
      "Number of beams to be cut (orders): 180\n"
     ]
    }
   ],
   "source": [
    "with open('640.csp') as file:\n",
    "    data = file.readlines()\n",
    "\n",
    "NUM_BEAMS = int(data[0])\n",
    "BEAM_LENGTH = int(data[1])\n",
    "\n",
    "# Beams to be cut from the available beams\n",
    "BEAMS = [int(length)\n",
    "         for datum in data[2:]\n",
    "         for length, amount in [datum.strip().split()]\n",
    "         for _ in range(int(amount))]\n",
    "\n",
    "print(\"Total number of beams available:\", NUM_BEAMS)\n",
    "print(\"Each available beam is of length:\", BEAM_LENGTH)\n",
    "\n",
    "print(\"Number of beams to be cut (orders):\", len(BEAMS))"
   ]
  },
  {
   "cell_type": "markdown",
   "metadata": {},
   "source": [
    "## Operators and solution state\n",
    "\n",
    "To use the ALNS meta-heuristic, we need to have destroy and repair operators that work on a proposed solution, and a way to describe such a solution in the first place. The ALNS package exposes the class ``State`` to describe a solution, with an ``objective()`` member that computes this solution's objective value. Using it, we may compute a simple initial solution, and then apply the ALNS algorithm."
   ]
  },
  {
   "cell_type": "markdown",
   "metadata": {},
   "source": [
    "## Solution state"
   ]
  },
  {
   "cell_type": "code",
   "execution_count": 6,
   "metadata": {},
   "outputs": [],
   "source": [
    "class CspState(State):\n",
    "    \"\"\"\n",
    "    Solution state for the CSP problem. It has one member, assignments, which\n",
    "    is a list of length NUM_BEAMS. Each entry is another list, containing the\n",
    "    ordered beams cut from this beam. Each such sublist must sum to less than\n",
    "    or equal to BEAM_LENGTH.\n",
    "    \"\"\"\n",
    "    \n",
    "    def __init__(self, assignments):\n",
    "        self.assignments = assignments\n",
    "    \n",
    "    def copy(self):\n",
    "        \"\"\"\n",
    "        Helper method to ensure each solution state is immutable.\n",
    "        \"\"\"\n",
    "        return CspState(self.assignments.copy())\n",
    "\n",
    "    def objective(self):\n",
    "        \"\"\"\n",
    "        Computes the objective values, as the 'wasted' parts of each used \n",
    "        beam.\n",
    "        \"\"\"\n",
    "        return sum(BEAM_LENGTH - sum(assignment) \n",
    "                   for assignment in self.assignments\n",
    "                   if len(assignment) != 0)\n",
    "    \n",
    "    def plot(self):\n",
    "        \"\"\"\n",
    "        Helper method to plot a solution.\n",
    "        \"\"\"\n",
    "        lengths = [sum(assignment)\n",
    "                   for assignment in self.assignments]\n",
    "        \n",
    "        fig, ax = plt.subplots(figsize=(12, 6))\n",
    "      \n",
    "        ax.barh(np.arange(len(self.assignments)), \n",
    "                lengths, \n",
    "                height=1)\n",
    "\n",
    "        ax.set_xlim(right=BEAM_LENGTH)\n",
    "        ax.set_yticks(np.arange(len(self.assignments), step=10))\n",
    "\n",
    "        ax.margins(x=0, y=0)\n",
    "\n",
    "        ax.set_xlabel('Usage')\n",
    "        ax.set_ylabel('Beam (#)')\n",
    "\n",
    "        plt.draw_if_interactive()"
   ]
  },
  {
   "cell_type": "markdown",
   "metadata": {},
   "source": [
    "# Destroy operators"
   ]
  },
  {
   "cell_type": "code",
   "execution_count": null,
   "metadata": {},
   "outputs": [],
   "source": []
  },
  {
   "cell_type": "markdown",
   "metadata": {},
   "source": [
    "# Repair operators"
   ]
  },
  {
   "cell_type": "code",
   "execution_count": null,
   "metadata": {},
   "outputs": [],
   "source": []
  },
  {
   "cell_type": "markdown",
   "metadata": {},
   "source": [
    "# Initial solution"
   ]
  },
  {
   "cell_type": "code",
   "execution_count": null,
   "metadata": {},
   "outputs": [],
   "source": []
  }
 ],
 "metadata": {
  "kernelspec": {
   "display_name": "Python 3",
   "language": "python",
   "name": "python3"
  },
  "language_info": {
   "codemirror_mode": {
    "name": "ipython",
    "version": 3
   },
   "file_extension": ".py",
   "mimetype": "text/x-python",
   "name": "python",
   "nbconvert_exporter": "python",
   "pygments_lexer": "ipython3",
   "version": "3.7.1"
  }
 },
 "nbformat": 4,
 "nbformat_minor": 2
}
