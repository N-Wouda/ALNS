{
 "cells": [
  {
   "cell_type": "code",
   "execution_count": 21,
   "id": "eb92ee38-fd50-4d27-a03d-942f22af125c",
   "metadata": {},
   "outputs": [],
   "source": [
    "import sys\n",
    "sys.path.append('../../..')"
   ]
  },
  {
   "cell_type": "code",
   "execution_count": 3,
   "id": "e7abfb7a",
   "metadata": {},
   "outputs": [],
   "source": [
    "from copy import deepcopy\n",
    "from dataclasses import dataclass\n",
    "from typing import Optional, List, Tuple\n",
    "\n",
    "import numpy as np\n",
    "import numpy.random as rnd\n",
    "import matplotlib.pyplot as plt\n",
    "import matplotlib.cm as cm\n",
    "\n",
    "from alns import ALNS, State\n",
    "from alns.accept import RecordToRecordTravel\n",
    "from alns.select import AlphaUCB\n",
    "from alns.stop import MaxIterations"
   ]
  },
  {
   "cell_type": "code",
   "execution_count": 4,
   "id": "e92a956d",
   "metadata": {},
   "outputs": [],
   "source": [
    "%matplotlib inline"
   ]
  },
  {
   "cell_type": "code",
   "execution_count": 5,
   "id": "1b9b14f2",
   "metadata": {},
   "outputs": [],
   "source": [
    "SEED = 2345"
   ]
  },
  {
   "cell_type": "markdown",
   "id": "c74062fc",
   "metadata": {},
   "source": [
    "# The permutation flow shop problem\n",
    "In the PFSP, a set of jobs $N=\\{1, \\dots, n\\}$ has to be processed on a set of machines $M = \\{1, \\dots, m\\}$. Every job $j$ requires a processing time $p_{ij}$ on machine $i$. Moreover, all $n$ jobs have to be processed in the same order on every machine, and, the jobs follow the same machine order, starting from machine $1$ and ending at machine $m$. The objective is to find a permutation of the jobs, describing the order in which they are processed, such that the maximum completion time is minimized. This is also known as minimizing the *makespan*.\n",
    "\n",
    "In this notebook, we demonstrate how to use ALNS to solve the permutation flow shop problem (PFSP), which is known to be NP-hard. In particular, we will implement the Iterated Greedy algorithm by [Ruiz and Stützle (2007)](https://www.sciencedirect.com/science/article/abs/pii/S0377221705008507?casa_token=V1QrcrUlY_QAAAAA:Vg3ADRaLM7-AaOu2DAo7P0sLatwnNF4LWEnB6K9OqjtQtYNqEW4YTnOAmIz227byWa2LEE3939s), which is a crossover between large neighborhood search and iterated local search. We will also cover some advanced features of the `alns` package, including passing `**kwargs` to `ALNS.iterate`, autofitting the acceptance criterion, and adding local search to greedy repair.\n",
    "\n",
    "The implementation of algorithms is mainly based on [Stützle and Ruiz (2018)](https://iridia.ulb.ac.be/IridiaTrSeries/link/IridiaTr2018-006.pdf)."
   ]
  },
  {
   "cell_type": "markdown",
   "id": "fe6fc311",
   "metadata": {},
   "source": [
    "## Data\n",
    "The [Taillard instances](http://mistic.heig-vd.ch/taillard/problemes.dir/ordonnancement.dir/ordonnancement.html) are the most used benchmark instances for the permutation flow shop problem. We will use the `tai_50_20_8` instance, which consists of 50 jobs and 20 machines."
   ]
  },
  {
   "cell_type": "code",
   "execution_count": 30,
   "id": "1e8b657b",
   "metadata": {},
   "outputs": [],
   "source": [
    "@dataclass\n",
    "class Data:\n",
    "    n_jobs: int\n",
    "    n_machines: int\n",
    "    bkv: int # best known value\n",
    "    processing_times: np.ndarray\n",
    "\n",
    "with open(\"tai50_20_8.txt\", 'r') as fi:\n",
    "    lines = fi.readlines()\n",
    "    \n",
    "    n_jobs, n_machines, _, bkv, _ = [int(num) for num in lines[1].split()]\n",
    "    processing_times = np.genfromtxt(lines[3:], dtype=int)\n",
    "    data = Data(n_jobs, n_machines, bkv, processing_times)"
   ]
  },
  {
   "cell_type": "markdown",
   "id": "30a3416f-a8c5-4e5e-b808-94211c6629f8",
   "metadata": {},
   "source": [
    "Let's plot a Gantt chart of a random schedule."
   ]
  },
  {
   "cell_type": "code",
   "execution_count": 31,
   "id": "79f56d8c-e8c6-4436-aede-1b4aabf14c7e",
   "metadata": {},
   "outputs": [],
   "source": [
    "def compute_completion_times(schedule):\n",
    "    \"\"\"\n",
    "    Compute the completion time for each job of the passed-in schedule.\n",
    "    \"\"\"\n",
    "    completion = np.zeros(data.processing_times.shape, dtype=int)\n",
    "\n",
    "    for pos, job in enumerate(schedule):\n",
    "        for machine in range(data.n_machines):\n",
    "            prev_job = (\n",
    "                completion[machine, schedule[pos - 1]] if pos != 0 else 0\n",
    "            )\n",
    "            prev_machine = completion[machine - 1, job] if machine != 0 else 0\n",
    "            processing = data.processing_times[machine, job]\n",
    "\n",
    "            completion[machine, job] = max(prev_job, prev_machine) + processing\n",
    "\n",
    "    return completion\n",
    "\n",
    "\n",
    "def compute_makespan(schedule):\n",
    "    \"\"\"\n",
    "    Returns the makespan, i.e., the maximum completion time.\n",
    "    \"\"\"\n",
    "    return compute_completion_times(schedule)[-1, schedule[-1]]"
   ]
  },
  {
   "cell_type": "code",
   "execution_count": 32,
   "id": "835f20ab",
   "metadata": {},
   "outputs": [],
   "source": [
    "def plot(schedule, name):\n",
    "    n_machines, n_jobs = data.processing_times.shape\n",
    "\n",
    "    completion = compute_completion_times(schedule)\n",
    "    start = completion - data.processing_times\n",
    "\n",
    "    # Plot each job using its start and completion time\n",
    "    cmap = cm.get_cmap(\"rainbow\", n_jobs)\n",
    "    machines, length, start_job, job_colors = zip(\n",
    "        *[\n",
    "            (i, data.processing_times[i, j], start[i, j], cmap(j - 1))\n",
    "            for i in range(n_machines)\n",
    "            for j in range(n_jobs)\n",
    "        ]\n",
    "    )\n",
    "\n",
    "    _, ax = plt.subplots(1, figsize=(12, 6))\n",
    "    ax.barh(machines, length, left=start_job, color=job_colors)\n",
    "\n",
    "    ax.set_title(f\"Schedule for {name}\\n Makespan: {compute_makespan(schedule)}\") \n",
    "    ax.set_ylabel(f\"Machines\")\n",
    "    ax.set_xlabel(f\"Time\")\n",
    "\n",
    "    plt.show()"
   ]
  },
  {
   "cell_type": "code",
   "execution_count": 34,
   "id": "c98304b2",
   "metadata": {},
   "outputs": [
    {
     "data": {
      "image/png": "[encoded data removed]",
      "text/plain": [
       "<Figure size 864x432 with 1 Axes>"
      ]
     },
     "metadata": {
      "needs_background": "light"
     },
     "output_type": "display_data"
    }
   ],
   "source": [
    "plot(rnd.choice(range(data.n_jobs), size=data.n_jobs, replace=False), 'a random schedule')"
   ]
  },
  {
   "cell_type": "markdown",
   "id": "90dc2e14-5785-4188-82a8-10649ab192c4",
   "metadata": {},
   "source": [
    "# Solution state"
   ]
  },
  {
   "cell_type": "code",
   "execution_count": 38,
   "id": "c9d39e8c",
   "metadata": {},
   "outputs": [],
   "source": [
    "class Solution(State):\n",
    "    def __init__(self, schedule: List[int], unassigned: Optional[List[int]] = None):\n",
    "        self.schedule = schedule\n",
    "        self.unassigned = unassigned if unassigned is not None else []\n",
    "        self._makespan = None\n",
    "\n",
    "    def objective(self):\n",
    "        return compute_makespan(self.schedule)\n",
    "\n",
    "    def insert(self, job: int, idx: int):\n",
    "        self.schedule.insert(idx, job)\n",
    "\n",
    "    def opt_insert(self, job: int):\n",
    "        \"\"\"\n",
    "        Optimally insert the job in the current schedule.\n",
    "        \"\"\"\n",
    "        idcs_costs = all_insert_cost(self.schedule, job)\n",
    "        idx, _ = min(idcs_costs, key=lambda idx_cost: idx_cost[1])\n",
    "        self.insert(job, idx)\n",
    "\n",
    "    def remove(self, job: int):\n",
    "        self.schedule.remove(job)"
   ]
  },
  {
   "cell_type": "markdown",
   "id": "77d6cb77-e0a1-4348-9541-b2409325bec4",
   "metadata": {},
   "source": [
    "A key component in ruin-and-recreate algorithms is a fast way to compute the best insertion place for an unassigned job. In the PFSP, a naive approach is to try all $O(n)$ insertion positions and compute for each the resulting makespan in $O(nm)$. This has total time complexity $O(n^2m)$. A more efficient way is to use [Taillard acceleration](https://scholar.google.com/citations?view_op=view_citation&hl=nl&user=vj-4SjYAAAAJ&citation_for_view=vj-4SjYAAAAJ:IjCSPb-OGe4C), which reduces this operation to only $O(nm)$."
   ]
  },
  {
   "cell_type": "code",
   "execution_count": 35,
   "id": "6144cb0e-284b-4abd-981c-722002925d2b",
   "metadata": {},
   "outputs": [],
   "source": [
    "def all_insert_cost(schedule: List[int], job: int) -> List[Tuple[int, float]]:\n",
    "    \"\"\"\n",
    "    Computes the partial makespans when inserting a job in the schedule.\n",
    "    O(nm) using Taillard's acceleration.\n",
    "\n",
    "    [1] Taillard, E. (1990). Some efficient heuristic methods for the\n",
    "    flow shop sequencing problem. European Journal of Operational Research,\n",
    "    47(1), 65-74.\n",
    "    \"\"\"\n",
    "    k = len(schedule) + 1\n",
    "    m = data.processing_times.shape[0]\n",
    "    p = data.processing_times\n",
    "\n",
    "    # Earliest completion times of job pi(j) on machine i before inserting the new job\n",
    "    e = np.zeros((m + 1, k))\n",
    "    for j in range(k - 1):\n",
    "        for i in range(m):\n",
    "            e[i, j] = max(e[i, j - 1], e[i - 1, j]) + p[i, schedule[j]]\n",
    "\n",
    "    # Duration between starting time and final makespan\n",
    "    q = np.zeros((m + 1, k))\n",
    "    for j in range(k - 2, -1, -1):\n",
    "        for i in range(m - 1, -1, -1):\n",
    "            q[i, j] = max(q[i + 1, j], q[i, j + 1]) + p[i, schedule[j]]\n",
    "\n",
    "    # Earliest relative completion time\n",
    "    f = np.zeros((m + 1, k))\n",
    "    for l in range(k):\n",
    "        for i in range(m):\n",
    "            f[i, l] = max(f[i - 1, l], e[i, l - 1]) + p[i, job]\n",
    "\n",
    "    # Partial makespan; drop the last (dummy) row of q\n",
    "    M = np.max(f + q, axis=0)\n",
    "\n",
    "    return [(idx, M[idx]) for idx in np.argsort(M)]"
   ]
  },
  {
   "cell_type": "markdown",
   "id": "27f9f2b2",
   "metadata": {},
   "source": [
    "## Destroy operators\n",
    "We implement two destroy operators: a random job removal operator, and an adjacent job removal operator. Both destroy operators rely on the `n_remove` parameter, which should inferred from the `**kwargs` argument. We will show later how to pass this argument to ALNS."
   ]
  },
  {
   "cell_type": "code",
   "execution_count": 46,
   "id": "9c1ea3da",
   "metadata": {},
   "outputs": [],
   "source": [
    "def random_removal(state: Solution, rnd_state, **kwargs) -> Solution:\n",
    "    \"\"\"\n",
    "    Randomly remove a number jobs from the solution. The default number of jobs\n",
    "    to remove is 2. If `n_remove` is passed as keyword argument, use that value\n",
    "    instead.\n",
    "    \"\"\"\n",
    "    destroyed = deepcopy(state)\n",
    "\n",
    "    for job in rnd_state.choice(\n",
    "        data.n_jobs, kwargs.get(\"n_remove\", 2), replace=False\n",
    "    ):\n",
    "        destroyed.unassigned.append(job)\n",
    "        destroyed.schedule.remove(job)\n",
    "\n",
    "    return destroyed"
   ]
  },
  {
   "cell_type": "code",
   "execution_count": 47,
   "id": "ff11a5d3",
   "metadata": {},
   "outputs": [],
   "source": [
    "def adjacent_removal(state: Solution, rnd_state, **kwargs) -> Solution:\n",
    "    \"\"\"\n",
    "    Randomly remove a number adjacent jobs from the solution. The default\n",
    "    number of jobs to remove is 2. If `n_remove` is passed as keyword argument,\n",
    "    use that value instead.\n",
    "    \"\"\"\n",
    "    destroyed = deepcopy(state)\n",
    "    n_remove = kwargs.get(\"n_remove\", 2)\n",
    "\n",
    "    start = rnd_state.randint(data.n_jobs - n_remove)\n",
    "    jobs_to_remove = [state.schedule[start + idx] for idx in range(n_remove)]\n",
    "\n",
    "    for job in jobs_to_remove:\n",
    "        destroyed.unassigned.append(job)\n",
    "        destroyed.schedule.remove(job)\n",
    "\n",
    "    return destroyed"
   ]
  },
  {
   "cell_type": "markdown",
   "id": "44207f2f",
   "metadata": {},
   "source": [
    "## Repair operators and local search\n",
    "We now introduce the repair operators. \n",
    "\n",
    "The NEH heuristic, i.e., to order jobs in non-decreasing order of processing times, is also very effective for the greedy repair operator"
   ]
  },
  {
   "cell_type": "code",
   "execution_count": 48,
   "id": "2bb06bab",
   "metadata": {},
   "outputs": [],
   "source": [
    "def greedy_repair(state: Solution, rnd_state, **kwargs) -> Solution:\n",
    "    \"\"\"\n",
    "    Greedily insert the unassigned jobs back into the schedule. The jobs are\n",
    "    inserted in non-dcreasing order of total processing times.\n",
    "    \"\"\"\n",
    "    state.unassigned.sort(key=lambda j: sum(data.processing_times[:, j]))\n",
    "\n",
    "    while len(state.unassigned) != 0:\n",
    "        job = state.unassigned.pop()  # largest total processing time first\n",
    "        state.opt_insert(job)\n",
    "\n",
    "    return state"
   ]
  },
  {
   "cell_type": "markdown",
   "id": "7e9eeb13",
   "metadata": {},
   "source": [
    "In iterated greedy, the repair step is followed by a local search neighborhood. We define another function that includes this step:"
   ]
  },
  {
   "cell_type": "code",
   "execution_count": 49,
   "id": "13e73142",
   "metadata": {},
   "outputs": [],
   "source": [
    "def greedy_repair_then_local_search(state: Solution, rnd_state, **kwargs):\n",
    "    \"\"\"\n",
    "    Greedily insert the unassigned jobs back into the schedule. Apply local\n",
    "    search using the insertion neighborhood afterwards.\n",
    "    \"\"\"\n",
    "    state = greedy_repair(state, rnd_state, **kwargs)\n",
    "    local_search(state, **kwargs)\n",
    "    return state\n",
    "\n",
    "\n",
    "def local_search(solution: Solution, **kwargs):\n",
    "    \"\"\"\n",
    "    Improves the current solution in-place using the insertion neighborhood.\n",
    "    \"\"\"\n",
    "    improved = True\n",
    "\n",
    "    while improved:\n",
    "        improved = False\n",
    "        current = solution.objective()\n",
    "\n",
    "        for job in rnd.choice(\n",
    "            solution.schedule, len(solution.schedule), replace=False\n",
    "        ):\n",
    "            solution.remove(job)\n",
    "            solution.opt_insert(job)\n",
    "\n",
    "            if solution.objective() < current:\n",
    "                improved = True\n",
    "                current = solution.objective()\n",
    "                break"
   ]
  },
  {
   "cell_type": "markdown",
   "id": "494a071c",
   "metadata": {},
   "source": [
    "## Initial solution"
   ]
  },
  {
   "cell_type": "code",
   "execution_count": 50,
   "id": "33eb4baf",
   "metadata": {},
   "outputs": [],
   "source": [
    "def NEH(processing_times: np.ndarray) -> Solution:\n",
    "    \"\"\"\n",
    "    Schedules jobs in decreasing order of the total processing times.\n",
    "\n",
    "    [1] Nawaz, M., Enscore Jr, E. E., & Ham, I. (1983). A heuristic algorithm\n",
    "    for the m-machine, n-job flow-shop sequencing problem. Omega, 11(1), 91-95.\n",
    "    \"\"\"\n",
    "    largest_first = np.argsort(processing_times.sum(axis=0)).tolist()[::-1]\n",
    "    solution = Solution([largest_first.pop(0)], [])\n",
    "\n",
    "    for job in largest_first:\n",
    "        solution.opt_insert(job)\n",
    "\n",
    "    return solution"
   ]
  },
  {
   "cell_type": "code",
   "execution_count": 51,
   "id": "7fc0f4d1-ffa2-4f71-ab09-cc4e6d9cc0a6",
   "metadata": {},
   "outputs": [
    {
     "name": "stdout",
     "output_type": "stream",
     "text": [
      "Best heuristic objective is 3929.\n",
      "This is 5.9% worse than the optimal solution, which is 3709.\n"
     ]
    }
   ],
   "source": [
    "init = NEH(data.processing_times)\n",
    "objective = init.objective()\n",
    "pct_diff = 100 * (objective - data.bkv) / bkv\n",
    "\n",
    "print(f\"Best heuristic objective is {objective}.\")\n",
    "print(f\"This is {pct_diff:.1f}% worse than the optimal solution, which is {bkv}.\")"
   ]
  },
  {
   "cell_type": "code",
   "execution_count": 52,
   "id": "f3c771d3",
   "metadata": {},
   "outputs": [
    {
     "data": {
      "image/png": "[encoded data removed]",
      "text/plain": [
       "<Figure size 864x432 with 1 Axes>"
      ]
     },
     "metadata": {
      "needs_background": "light"
     },
     "output_type": "display_data"
    }
   ],
   "source": [
    "plot(init.schedule, \"NEH\")"
   ]
  },
  {
   "cell_type": "markdown",
   "id": "a8f2fc12",
   "metadata": {},
   "source": [
    "## Heuristic solution"
   ]
  },
  {
   "cell_type": "code",
   "execution_count": 54,
   "id": "67376595",
   "metadata": {
    "scrolled": true
   },
   "outputs": [],
   "source": [
    "alns = ALNS(rnd.RandomState(SEED))\n",
    "\n",
    "alns.add_destroy_operator(random_removal)\n",
    "alns.add_destroy_operator(adjacent_removal)\n",
    "\n",
    "alns.add_repair_operator(greedy_repair)\n",
    "alns.add_repair_operator(greedy_repair_then_local_search)"
   ]
  },
  {
   "cell_type": "code",
   "execution_count": 67,
   "id": "50d07c30",
   "metadata": {},
   "outputs": [],
   "source": [
    "ITERS = 30\n",
    "\n",
    "init = NEH(data.processing_times)\n",
    "select = AlphaUCB(\n",
    "    scores=[5, 2, 1, 0.5],\n",
    "    alpha=0.10,\n",
    "    num_destroy=len(alns.destroy_operators),\n",
    "    num_repair=len(alns.repair_operators),\n",
    ")\n",
    "accept = RecordToRecordTravel.autofit(init.objective(), 0.03, 0, ITERS)\n",
    "stop = MaxIterations(ITERS)\n",
    "\n",
    "result = alns.iterate(init, select, accept, stop)"
   ]
  },
  {
   "cell_type": "code",
   "execution_count": 56,
   "id": "35137d49",
   "metadata": {},
   "outputs": [
    {
     "name": "stdout",
     "output_type": "stream",
     "text": [
      "Best heuristic objective is 3788.\n",
      "This is 2.1% worse than the optimal solution, which is 3709.\n"
     ]
    }
   ],
   "source": [
    "solution = result.best_state\n",
    "objective = solution.objective()\n",
    "pct_diff = 100 * (objective - data.bkv) / bkv\n",
    "\n",
    "print(f\"Best heuristic objective is {objective}.\")\n",
    "print(f\"This is {pct_diff:.1f}% worse than the optimal solution, which is {bkv}.\")"
   ]
  },
  {
   "cell_type": "code",
   "execution_count": 57,
   "id": "ab663489",
   "metadata": {},
   "outputs": [
    {
     "data": {
      "image/png": "[encoded data removed]",
      "text/plain": [
       "<Figure size 864x432 with 1 Axes>"
      ]
     },
     "metadata": {
      "needs_background": "light"
     },
     "output_type": "display_data"
    }
   ],
   "source": [
    "plot(result.best_state.schedule, \"IG\")"
   ]
  },
  {
   "cell_type": "markdown",
   "id": "de4737b9-a3d7-4e41-87c6-2ecf14b4c87b",
   "metadata": {},
   "source": [
    "## Changing the destroy rate\n",
    "We mentioned earlier that we can pass keyword-arguments to `ALNS.iterate`. The implemented destroy operators take `n_remove` as argument to vary the rate of destruction. This is useful for tuning, so you can find out which parameter is best for the instances at hand. Let's try this for various values of the destruction rate:"
   ]
  },
  {
   "cell_type": "code",
   "execution_count": null,
   "id": "3f4509d1-4742-4215-836a-8fcb9a46dda5",
   "metadata": {},
   "outputs": [],
   "source": [
    "objectives = {}\n",
    "\n",
    "for n_remove in [2, 3, 4, 5, 6]:\n",
    "    stop = MaxIterations(ITERS * 5) # reset stopping criteria\n",
    "    accept = RecordToRecordTravel.autofit(init.objective(), 0.03, 0, ITERS * 5)\n",
    "    result = alns.iterate(init, select, accept, stop, n_remove=n_remove)\n",
    "    objectives[n_remove] = result.best_state.objective()\n",
    "    \n",
    "print(objectives)"
   ]
  },
  {
   "cell_type": "markdown",
   "id": "2eafe303-9bce-457f-a937-0b9875e093dd",
   "metadata": {},
   "source": [
    "## Adding local search to greedy repair\n",
    "A common step ...\n",
    "Iterated local search ..."
   ]
  },
  {
   "cell_type": "markdown",
   "id": "1b3ced50",
   "metadata": {},
   "source": [
    "## Conclusions\n",
    "In this notebook, we implemented the iterated greedy algorithm to solve the permutation flow shop problem. We showed a few advanced features in ALNS, including:\n",
    "- Adding local search to repair procedures\n",
    "- Passing `**kwargs` to operators\n",
    "- Autofitting acceptance criteria"
   ]
  }
 ],
 "metadata": {
  "kernelspec": {
   "display_name": "Python 3 (ipykernel)",
   "language": "python",
   "name": "python3"
  },
  "language_info": {
   "codemirror_mode": {
    "name": "ipython",
    "version": 3
   },
   "file_extension": ".py",
   "mimetype": "text/x-python",
   "name": "python",
   "nbconvert_exporter": "python",
   "pygments_lexer": "ipython3",
   "version": "3.9.12"
  }
 },
 "nbformat": 4,
 "nbformat_minor": 5
}
