{
 "cells": [
  {
   "cell_type": "code",
   "execution_count": 1,
   "metadata": {
    "collapsed": true
   },
   "outputs": [],
   "source": [
    "import copy\n",
    "import heapq\n",
    "import re\n",
    "from dataclasses import dataclass\n",
    "from typing import List, Tuple\n",
    "\n",
    "import matplotlib.pyplot as plt\n",
    "import numpy as np\n",
    "import numpy.random as rnd\n",
    "\n",
    "from alns import ALNS, State\n",
    "from alns.criteria import SimulatedAnnealing\n",
    "from alns.weight_schemes import SegmentedWeights"
   ]
  },
  {
   "cell_type": "code",
   "execution_count": 2,
   "outputs": [],
   "source": [
    "%matplotlib inline"
   ],
   "metadata": {
    "collapsed": false,
    "pycharm": {
     "name": "#%%\n"
    }
   }
  },
  {
   "cell_type": "code",
   "execution_count": 3,
   "outputs": [],
   "source": [
    "SEED = 5432"
   ],
   "metadata": {
    "collapsed": false,
    "pycharm": {
     "name": "#%%\n"
    }
   }
  },
  {
   "cell_type": "markdown",
   "source": [
    "# The resource-constrained project scheduling problem\n",
    "\n",
    "The following explanation is largely based on [this paper](https://pms2020.sciencesconf.org/300164/document).\n",
    "\n",
    "The goal of the RCPSP is to schedule a set of project activities $V = \\{ 0, 1, 2, \\ldots, n \\}$, such that the makespan of the project is minimised.\n",
    "Each activity $i \\in V$ has a duration $d_i \\in \\mathbb{N}$.\n",
    "Precedence constraints impose that an activity $i \\in V$ can only start after all its predecessor activities have been completed.\n",
    "The precedence constraints are given by a set of edges $E \\subset V \\times V$, where $(i, j) \\in E$ means that $i$ must be completed before $j$ can commence.\n",
    "Resource constraints, on the other hand, impose that an activity can only be scheduled if sufficient resources are available.\n",
    "There are $K = \\{ 1, 2, \\ldots, m \\}$ renewable resources available, with $R_k$ indicating the availability of resource $k$.\n",
    "Each activity $i \\in V$ requires $r_{ik}$ units of resource $k$.\n",
    "A solution to the RCPSP is a schedule of activities $S = \\{ S_0, S_1, \\ldots, S_n \\}$, where $S_i$ is the starting time of activity $i$.\n",
    "The project starts at time $S_0 = 0$, and completes at $S_n$, where activities $0$ and $n$ are dummy activities that represent the start and completion of the project, respectively.\n",
    "\n",
    "In this notebook, we solve an instance of the RCPSP using ALNS.\n",
    "In particular, we solve instance `j9041_6` of the [PSPLib](http://www.om-db.wi.tum.de/psplib/library.html) benchmark suite.\n",
    "This instance consists of 90 jobs, and four resources.\n",
    "\n",
    "TODO\n",
    "Par  Inst UB   LB\n",
    "41   6   135   123\n",
    "http://www.om-db.wi.tum.de/psplib/files/j90lb.sm\n"
   ],
   "metadata": {
    "collapsed": false,
    "pycharm": {
     "name": "#%% md\n"
    }
   }
  },
  {
   "cell_type": "markdown",
   "source": [
    "## Data instance"
   ],
   "metadata": {
    "collapsed": false,
    "pycharm": {
     "name": "#%% md\n"
    }
   }
  },
  {
   "cell_type": "code",
   "execution_count": 4,
   "outputs": [],
   "source": [
    "@dataclass\n",
    "class ProblemData:\n",
    "    num_jobs: int\n",
    "    num_resources: int\n",
    "\n",
    "    duration: np.ndarray  # job durations\n",
    "    successors: List[List[int]]  # job successors\n",
    "    predecessors: List[List[int]]  # job predecessors\n",
    "    needs: np.ndarray  # job resource needs\n",
    "    resources: np.ndarray  # resource capacities\n",
    "\n",
    "    @property\n",
    "    def last_job(self) -> int:\n",
    "        return self.num_jobs - 1\n",
    "\n",
    "    @property\n",
    "    def all_predecessors(self) -> List[List[int]]:\n",
    "        pred = [set() for _ in range(self.num_jobs)]\n",
    "\n",
    "        for job, pre in enumerate(self.predecessors):\n",
    "            for p in pre:\n",
    "                pred[job] |= pred[p] | {p}\n",
    "\n",
    "        return [sorted(p) for p in pred]\n",
    "\n",
    "    @property\n",
    "    def all_successors(self) -> List[List[int]]:\n",
    "        succ = [set() for _ in range(self.num_jobs)]\n",
    "\n",
    "        for job, suc in zip(reversed(range(self.num_jobs)), reversed(self.successors)):\n",
    "            for s in suc:\n",
    "                succ[job] |= succ[s] | {s}\n",
    "\n",
    "        return [sorted(s) for s in succ]\n",
    "\n",
    "    @classmethod\n",
    "    def read_instance(cls, path: str) -> \"ProblemData\":\n",
    "        \"\"\"\n",
    "        Reads an instance of the RCPSP from a file.\n",
    "        Assumes the data is in the PSPLib format.\n",
    "\n",
    "        Loosely based on:\n",
    "        https://github.com/baobabsoluciones/hackathonbaobab2020.\n",
    "        \"\"\"\n",
    "        with open(path) as fh:\n",
    "            lines = fh.readlines()\n",
    "\n",
    "        prec_idx = lines.index(\"PRECEDENCE RELATIONS:\\n\")\n",
    "        req_idx = lines.index(\"REQUESTS/DURATIONS:\\n\")\n",
    "        avail_idx = lines.index(\"RESOURCEAVAILABILITIES:\\n\")\n",
    "\n",
    "        successors = []\n",
    "\n",
    "        for line in lines[prec_idx + 2: req_idx - 1]:\n",
    "            _, _, modes, num_succ, *jobs, _ = re.split(\"\\s+\", line)\n",
    "            successors.append(list(map(lambda x: int(x) - 1, jobs)))\n",
    "\n",
    "        predecessors = [[] for _ in range(len(successors))]\n",
    "\n",
    "        for job in range(len(successors)):\n",
    "            for succ in successors[job]:\n",
    "                predecessors[succ].append(job)\n",
    "\n",
    "        needs = []\n",
    "        durations = []\n",
    "\n",
    "        for line in lines[req_idx + 3: avail_idx - 1]:\n",
    "            _, _, _, duration, *consumption, _ = re.split(\"\\s+\", line)\n",
    "\n",
    "            needs.append(list(map(int, consumption)))\n",
    "            durations.append(int(duration))\n",
    "\n",
    "        _, *avail, _ = re.split(\"\\s+\", lines[avail_idx + 2])\n",
    "        resources = list(map(int, avail))\n",
    "\n",
    "        return ProblemData(len(durations),\n",
    "                           len(resources),\n",
    "                           np.array(durations),\n",
    "                           successors,\n",
    "                           predecessors,\n",
    "                           np.array(needs),\n",
    "                           np.array(resources))"
   ],
   "metadata": {
    "collapsed": false,
    "pycharm": {
     "name": "#%%\n"
    }
   }
  },
  {
   "cell_type": "code",
   "execution_count": 5,
   "outputs": [],
   "source": [
    "instance = ProblemData.read_instance('j9041_6.sm')"
   ],
   "metadata": {
    "collapsed": false,
    "pycharm": {
     "name": "#%%\n"
    }
   }
  },
  {
   "cell_type": "code",
   "execution_count": 6,
   "outputs": [],
   "source": [
    "UNSCHEDULED = -1  # sentinel value\n",
    "\n",
    "DELTA = 0.75  # resource utilisation threshold\n",
    "ITERS = 5_000\n",
    "THETA = 0.8  # weight decay parameter\n",
    "WEIGHTS = [10, 2, 1, 0]  # weight scheme weights\n",
    "Q = int(0.15 * instance.num_jobs)"
   ],
   "metadata": {
    "collapsed": false,
    "pycharm": {
     "name": "#%%\n"
    }
   }
  },
  {
   "cell_type": "markdown",
   "source": [
    "## Solution state"
   ],
   "metadata": {
    "collapsed": false,
    "pycharm": {
     "name": "#%% md\n"
    }
   }
  },
  {
   "cell_type": "code",
   "execution_count": 7,
   "outputs": [],
   "source": [
    "@dataclass\n",
    "class RcpspState(State):\n",
    "    \"\"\"\n",
    "    Solution state for the resource-constrained project scheduling problem.\n",
    "\n",
    "    We use a list representation of the scheduled jobs, where job i is\n",
    "    scheduled before j if i precedes j (i.e., the jobs are sorted\n",
    "    topologically).\n",
    "    \"\"\"\n",
    "    jobs: List[int]\n",
    "    _objective: int = None\n",
    "\n",
    "    def __copy__(self):\n",
    "        return RcpspState(self.jobs.copy())\n",
    "\n",
    "    @property\n",
    "    def unscheduled(self) -> List[int]:\n",
    "        return sorted(set(range(instance.num_jobs)) - set(self.jobs))\n",
    "\n",
    "    @property\n",
    "    def scheduled(self) -> List[int]:\n",
    "        return sorted(self.jobs)\n",
    "\n",
    "    def objective(self) -> int:\n",
    "        if self._objective is None:\n",
    "            schedule, _ = self.schedule()\n",
    "            self._objective = schedule[instance.last_job]\n",
    "\n",
    "        return self._objective\n",
    "\n",
    "    def schedule(self) -> Tuple[np.ndarray, np.ndarray]:\n",
    "        \"\"\"\n",
    "        Computes a serial schedule from the list of jobs in the current\n",
    "        solution. See Figure 1 in Fleszar and Hindi (2004) for the algorithm.\n",
    "        Returns the schedule, and the resources used.\n",
    "\n",
    "        Fleszar, K. and K.S. Hindi. 2004. Solving the resource-constrained\n",
    "        project scheduling problem by a variable neighbourhood search.\n",
    "        _European Journal of Operational Research_. 155 (2): 402 -- 413.\n",
    "        \"\"\"\n",
    "        used = np.zeros((instance.duration.sum(), instance.num_resources))\n",
    "        schedule = np.zeros(instance.num_jobs, dtype=int)\n",
    "\n",
    "        for job in self.jobs:\n",
    "            pred = instance.predecessors[job]\n",
    "            t = max(schedule[pred] + instance.duration[pred], default=0)\n",
    "\n",
    "            needs = instance.needs[job]\n",
    "            duration = instance.duration[job]\n",
    "\n",
    "            for s in range(t, instance.duration.sum() + 1):\n",
    "                if np.all(used[s:s + duration, :] + needs <= instance.resources):\n",
    "                    schedule[job] = s\n",
    "                    used[s:s + duration, :] += needs\n",
    "                    break\n",
    "\n",
    "        return schedule, used[:schedule[instance.last_job], :]\n",
    "\n",
    "    def plot(self):\n",
    "        fig = plt.figure(figsize=(12, 6 + instance.num_resources))\n",
    "\n",
    "        hr = [1] * (instance.num_resources + 1)\n",
    "        hr[0] = 6\n",
    "\n",
    "        gs = plt.GridSpec(nrows=1 + instance.num_resources,\n",
    "                          ncols=1,\n",
    "                          height_ratios=hr)\n",
    "\n",
    "        schedule, used = self.schedule()\n",
    "        idcs = np.argsort(schedule)\n",
    "\n",
    "        gantt = fig.add_subplot(gs[0, 0])\n",
    "        gantt.barh(np.arange(instance.num_jobs),\n",
    "                   instance.duration[idcs],\n",
    "                   left=schedule[idcs])\n",
    "\n",
    "        gantt.set_xlim(0, self.objective())\n",
    "        gantt.set_ylim(0, instance.last_job)\n",
    "        gantt.invert_yaxis()\n",
    "\n",
    "        gantt.set_title(\"Gantt chart\")\n",
    "\n",
    "        for res in range(instance.num_resources):\n",
    "            res_ax = fig.add_subplot(gs[res + 1, 0], sharex=gantt)\n",
    "            res_ax.bar(np.arange(used.shape[0]), used[:, res])\n",
    "\n",
    "            res_ax.set_ylim(0, instance.resources[res])\n",
    "            res_ax.set_ylabel(f\"R{res + 1}\")\n",
    "\n",
    "            if res == instance.num_resources - 1:\n",
    "                res_ax.set_xlabel(\"Time\")\n",
    "\n",
    "        plt.tight_layout()"
   ],
   "metadata": {
    "collapsed": false,
    "pycharm": {
     "name": "#%%\n"
    }
   }
  },
  {
   "cell_type": "markdown",
   "source": [
    "## Destroy operators"
   ],
   "metadata": {
    "collapsed": false,
    "pycharm": {
     "name": "#%% md\n"
    }
   }
  },
  {
   "cell_type": "code",
   "execution_count": 8,
   "outputs": [],
   "source": [
    "def most_mobile_removal(state: RcpspState, rnd_state: rnd.RandomState):\n",
    "    \"\"\"\n",
    "    This operator unschedules those jobs that are most mobile, that is,\n",
    "    those that can be 'moved' most within the schedule, as determined\n",
    "    by their scheduled predecessors and successors.\n",
    "    \"\"\"\n",
    "    state = copy.copy(state)\n",
    "    indices = np.zeros(instance.num_jobs)\n",
    "\n",
    "    for i, job in enumerate(state.jobs):\n",
    "        indices[job] = i\n",
    "\n",
    "    ll = np.array([max(indices[instance.predecessors[job]], default=0)\n",
    "                   for job in range(instance.num_jobs)])\n",
    "\n",
    "    rl = np.array([min(indices[instance.successors[job]],\n",
    "                       default=instance.num_jobs)\n",
    "                   for job in range(instance.num_jobs)])\n",
    "\n",
    "    jobs_by_mobility = np.argsort(ll - rl)\n",
    "\n",
    "    for job in jobs_by_mobility[:Q]:\n",
    "        state.jobs.remove(job)\n",
    "\n",
    "    return state"
   ],
   "metadata": {
    "collapsed": false,
    "pycharm": {
     "name": "#%%\n"
    }
   }
  },
  {
   "cell_type": "code",
   "execution_count": 9,
   "outputs": [],
   "source": [
    "def non_peak_removal(state: RcpspState, rnd_state: rnd.RandomState):\n",
    "    \"\"\"\n",
    "    Removes jobs that are scheduled in periods with limited resource\n",
    "    use. Those jobs might be grouped together better when they are\n",
    "    rescheduled.\n",
    "    \"\"\"\n",
    "    state = copy.copy(state)\n",
    "    start, used = state.schedule()\n",
    "\n",
    "    used /= instance.resources\n",
    "    util = np.mean(used, axis=1)\n",
    "    high_util = np.argwhere(util > DELTA)\n",
    "\n",
    "    end = start + instance.duration\n",
    "\n",
    "    jobs = [job for job in range(instance.num_jobs)\n",
    "            if all(t <= start[job] or t >= end[job] for t in high_util)]\n",
    "\n",
    "    # TODO think about how to weigh\n",
    "    p = instance.duration[jobs] / instance.duration[jobs].sum()\n",
    "    to_remove = rnd_state.choice(jobs, Q, replace=False, p=p)\n",
    "\n",
    "    for job in to_remove:\n",
    "        state.jobs.remove(job)\n",
    "\n",
    "    return state"
   ],
   "metadata": {
    "collapsed": false,
    "pycharm": {
     "name": "#%%\n"
    }
   }
  },
  {
   "cell_type": "code",
   "execution_count": 10,
   "outputs": [],
   "source": [
    "def critical_path_removal(state: RcpspState, rnd_state: rnd.RandomState):\n",
    "    \"\"\"\n",
    "    Removes up to Q items on the critical path.\n",
    "    \"\"\"\n",
    "    state = copy.copy(state)\n",
    "\n",
    "    # This is basically glorified Dijkstra to find the critical path.\n",
    "    dist = [(0, 0, {0}) for _ in range(instance.num_jobs)]\n",
    "    unseen = [(0, 0, {0})]\n",
    "\n",
    "    while unseen:\n",
    "        start, job, jobs = heapq.heappop(unseen)\n",
    "\n",
    "        for suc in instance.successors[job]:\n",
    "            length = start - instance.duration[suc]\n",
    "\n",
    "            if length <= dist[suc][0]:\n",
    "                dist[suc] = length, suc, jobs | {suc}\n",
    "                heapq.heappush(unseen, dist[suc])\n",
    "\n",
    "    _, _, jobs = dist[instance.last_job]\n",
    "    jobs = sorted(jobs)\n",
    "\n",
    "    # TODO think about how to weigh\n",
    "    p = instance.duration[jobs] / instance.duration[jobs].sum()\n",
    "    to_remove = rnd_state.choice(jobs, Q, replace=False, p=p)\n",
    "\n",
    "    for job in to_remove:\n",
    "        state.jobs.remove(job)\n",
    "\n",
    "    return state"
   ],
   "metadata": {
    "collapsed": false,
    "pycharm": {
     "name": "#%%\n"
    }
   }
  },
  {
   "cell_type": "markdown",
   "source": [
    "## Repair operators"
   ],
   "metadata": {
    "collapsed": false,
    "pycharm": {
     "name": "#%% md\n"
    }
   }
  },
  {
   "cell_type": "code",
   "execution_count": 11,
   "outputs": [],
   "source": [
    "def random_insert(state: RcpspState, rnd_state: rnd.RandomState):\n",
    "    unscheduled: List[int] = state.unscheduled\n",
    "    indices = UNSCHEDULED * np.ones(instance.num_jobs, dtype=int)\n",
    "\n",
    "    for i, job in enumerate(state.jobs):\n",
    "        indices[job] = i\n",
    "\n",
    "    preds = instance.all_predecessors\n",
    "    succs = instance.all_successors\n",
    "\n",
    "    while unscheduled:\n",
    "        job = unscheduled.pop(0)\n",
    "\n",
    "        if np.any(indices[preds[job]] == UNSCHEDULED):\n",
    "            unscheduled.append(job)\n",
    "            continue\n",
    "\n",
    "        ll = max((indices[pre] for pre in preds[job]), default=0)\n",
    "        rl = min((indices[suc] for suc in succs[job]\n",
    "                  if indices[suc] != UNSCHEDULED),\n",
    "                 default=len(state.jobs))\n",
    "\n",
    "        index = rnd_state.randint(ll + 1, rl) if ll + 1 < rl else ll + 1\n",
    "        state.jobs.insert(index, job)\n",
    "\n",
    "        indices[indices >= index] += 1\n",
    "        indices[job] = index\n",
    "\n",
    "    # TODO double justify?\n",
    "\n",
    "    return state"
   ],
   "metadata": {
    "collapsed": false,
    "pycharm": {
     "name": "#%%\n"
    }
   }
  },
  {
   "cell_type": "markdown",
   "source": [
    "## Initial solution"
   ],
   "metadata": {
    "collapsed": false,
    "pycharm": {
     "name": "#%% md\n"
    }
   }
  },
  {
   "cell_type": "code",
   "execution_count": 12,
   "outputs": [
    {
     "name": "stdout",
     "output_type": "stream",
     "text": [
      "Initial solution has objective 172.\n"
     ]
    }
   ],
   "source": [
    "init_sol = RcpspState(list(range(instance.num_jobs)))\n",
    "print(f\"Initial solution has objective {init_sol.objective()}.\")"
   ],
   "metadata": {
    "collapsed": false,
    "pycharm": {
     "name": "#%%\n"
    }
   }
  },
  {
   "cell_type": "code",
   "execution_count": 13,
   "outputs": [
    {
     "data": {
      "text/plain": "<Figure size 864x720 with 5 Axes>",
      "image/png": "[encoded data removed]"
     },
     "metadata": {
      "needs_background": "light"
     },
     "output_type": "display_data"
    }
   ],
   "source": [
    "init_sol.plot()"
   ],
   "metadata": {
    "collapsed": false,
    "pycharm": {
     "name": "#%%\n"
    }
   }
  },
  {
   "cell_type": "markdown",
   "source": [
    "## Heuristic solution"
   ],
   "metadata": {
    "collapsed": false,
    "pycharm": {
     "name": "#%% md\n"
    }
   }
  },
  {
   "cell_type": "code",
   "execution_count": 14,
   "outputs": [],
   "source": [
    "rnd_state = rnd.RandomState(SEED)"
   ],
   "metadata": {
    "collapsed": false,
    "pycharm": {
     "name": "#%%\n"
    }
   }
  },
  {
   "cell_type": "code",
   "execution_count": 20,
   "outputs": [],
   "source": [
    "alns = ALNS(rnd_state)\n",
    "\n",
    "alns.add_destroy_operator(most_mobile_removal)\n",
    "alns.add_destroy_operator(non_peak_removal)\n",
    "alns.add_destroy_operator(critical_path_removal)\n",
    "\n",
    "alns.add_repair_operator(random_insert)"
   ],
   "metadata": {
    "collapsed": false,
    "pycharm": {
     "name": "#%%\n"
    }
   }
  },
  {
   "cell_type": "code",
   "execution_count": 23,
   "outputs": [],
   "source": [
    "crit = SimulatedAnnealing.autofit(init_sol.objective(), 0.05, 0.1, ITERS)\n",
    "weights = SegmentedWeights(WEIGHTS, 3, 1, THETA)\n",
    "\n",
    "res = alns.iterate(init_sol, weights, crit, iterations=ITERS)\n",
    "\n",
    "sol = res.best_state\n",
    "obj = sol.objective()"
   ],
   "metadata": {
    "collapsed": false,
    "pycharm": {
     "name": "#%%\n"
    }
   }
  },
  {
   "cell_type": "code",
   "execution_count": 24,
   "outputs": [
    {
     "data": {
      "text/plain": "<Figure size 864x432 with 1 Axes>",
      "image/png": "[encoded data removed]"
     },
     "metadata": {
      "needs_background": "light"
     },
     "output_type": "display_data"
    }
   ],
   "source": [
    "_, ax = plt.subplots(figsize=(12, 6))\n",
    "res.plot_objectives(ax=ax)"
   ],
   "metadata": {
    "collapsed": false,
    "pycharm": {
     "name": "#%%\n"
    }
   }
  },
  {
   "cell_type": "code",
   "execution_count": 18,
   "outputs": [
    {
     "data": {
      "text/plain": "<Figure size 864x720 with 5 Axes>",
      "image/png": "[encoded data removed]"
     },
     "metadata": {
      "needs_background": "light"
     },
     "output_type": "display_data"
    }
   ],
   "source": [
    "sol.plot()"
   ],
   "metadata": {
    "collapsed": false,
    "pycharm": {
     "name": "#%%\n"
    }
   }
  },
  {
   "cell_type": "code",
   "execution_count": 19,
   "outputs": [],
   "source": [
    "s, u = sol.schedule()\n",
    "\n",
    "if np.any(u > instance.resources):\n",
    "    print(\"Solution is infeasible.\")\n",
    "\n",
    "for job in sol.jobs:\n",
    "    pre = instance.predecessors[job]\n",
    "    suc = instance.successors[job]\n",
    "\n",
    "    if np.any(s[pre] + instance.duration[pre] > s[job]):\n",
    "        print('pre', s[job], instance.duration[job], s[pre] + instance.duration[pre], s[suc])\n",
    "\n",
    "    if np.any(s[suc] < s[job] + instance.duration[job]):\n",
    "        print('post', s[job], instance.duration[job], s[pre] + instance.duration[pre], s[suc])"
   ],
   "metadata": {
    "collapsed": false,
    "pycharm": {
     "name": "#%%\n"
    }
   }
  },
  {
   "cell_type": "code",
   "execution_count": 19,
   "outputs": [],
   "source": [],
   "metadata": {
    "collapsed": false,
    "pycharm": {
     "name": "#%%\n"
    }
   }
  }
 ],
 "metadata": {
  "kernelspec": {
   "display_name": "Python 3",
   "language": "python",
   "name": "python3"
  },
  "language_info": {
   "codemirror_mode": {
    "name": "ipython",
    "version": 2
   },
   "file_extension": ".py",
   "mimetype": "text/x-python",
   "name": "python",
   "nbconvert_exporter": "python",
   "pygments_lexer": "ipython2",
   "version": "2.7.6"
  }
 },
 "nbformat": 4,
 "nbformat_minor": 0
}